{
 "cells": [
  {
   "cell_type": "markdown",
   "metadata": {
    "slideshow": {
     "slide_type": "slide"
    }
   },
   "source": [
    "# Part II - Insights from the Prosper Loan Dataset\n",
    "## by David Apine Kwenev"
   ]
  },
  {
   "cell_type": "markdown",
   "metadata": {
    "slideshow": {
     "slide_type": "slide"
    }
   },
   "source": [
    "## Investigation Overview\n",
    "The goal of this presentation is to draw our attention to some key features that possibly affect whether or not loan will be given to a borrower and the Loan Amount. The following insights will be presented and discussed:\n",
    "\n",
    "- It was found that 31% of borrowers earn between 50000 to 75000 dollars while 28% earn between 25000 to 50000 US dollars.\n",
    "- Borrowers that fall within these two Income Ranges constitute more than 50% of the entire dataset.\n",
    "- 37% of the borrowers come from 5 states namely (in decreasing order of pupolarity); California, New York, Texas, Florida, and Illinois with California taking the lead with about 13% borrowers.\n",
    "- 64% of the borrowers listed **Debt Consolidation** as their reason for taking the loan. Only about 5% of them mentioned **Business** as reason for the loan.\n",
    "- Being a home owner as well as having a high income plays a very big role on the Loan Amount.\n",
    "\n",
    "## Dataset Overview\n",
    "The [dataset](https://www.google.com/url?q=https://www.google.com/url?q%3Dhttps://s3.amazonaws.com/udacity-hosted-downloads/ud651/prosperLoanData.csv%26amp;sa%3DD%26amp;ust%3D1581581520570000&sa=D&source=editors&ust=1678221709762763&usg=AOvVaw2b_sgw5A_aYBCO_k05-0Pi) contains 113,937 records of loans with 81 features for each loan.   \n",
    "The [data dictionary](https://www.google.com/url?q=https://docs.google.com/spreadsheet/ccc?key%3D0AllIqIyvWZdadDd5NTlqZ1pBMHlsUjdrOTZHaVBuSlE%26usp%3Dsharing&sa=D&source=editors&ust=1678221709763697&usg=AOvVaw1OQTd8dKmyZ1zfhIVnVwvJ) explains the features in the data set."
   ]
  },
  {
   "cell_type": "code",
   "execution_count": 1,
   "metadata": {
    "slideshow": {
     "slide_type": "skip"
    }
   },
   "outputs": [],
   "source": [
    "# import all packages and set plots to be embedded inline\n",
    "import numpy as np\n",
    "import pandas as pd\n",
    "import matplotlib.pyplot as plt\n",
    "import seaborn as sb\n",
    "\n",
    "%matplotlib inline\n",
    "\n",
    "# suppress warnings from final output\n",
    "import warnings\n",
    "warnings.simplefilter(\"ignore\")"
   ]
  },
  {
   "cell_type": "code",
   "execution_count": 2,
   "metadata": {
    "slideshow": {
     "slide_type": "skip"
    }
   },
   "outputs": [
    {
     "data": {
      "text/html": [
       "<div>\n",
       "<style scoped>\n",
       "    .dataframe tbody tr th:only-of-type {\n",
       "        vertical-align: middle;\n",
       "    }\n",
       "\n",
       "    .dataframe tbody tr th {\n",
       "        vertical-align: top;\n",
       "    }\n",
       "\n",
       "    .dataframe thead th {\n",
       "        text-align: right;\n",
       "    }\n",
       "</style>\n",
       "<table border=\"1\" class=\"dataframe\">\n",
       "  <thead>\n",
       "    <tr style=\"text-align: right;\">\n",
       "      <th></th>\n",
       "      <th>Term</th>\n",
       "      <th>PublicRecordsLast10Years</th>\n",
       "      <th>PublicRecordsLast12Months</th>\n",
       "      <th>LoanStatus</th>\n",
       "      <th>EstimatedEffectiveYield</th>\n",
       "      <th>BorrowerAPR</th>\n",
       "      <th>BankcardUtilization</th>\n",
       "      <th>BorrowerRate</th>\n",
       "      <th>ProsperRating_Numeric</th>\n",
       "      <th>ProsperRating_Alpha</th>\n",
       "      <th>...</th>\n",
       "      <th>IncomeVerifiable</th>\n",
       "      <th>StatedMonthlyIncome</th>\n",
       "      <th>MonthlyLoanPayment</th>\n",
       "      <th>Recommendations</th>\n",
       "      <th>DebtToIncomeRatio</th>\n",
       "      <th>LoanOriginalAmount</th>\n",
       "      <th>PercentFunded</th>\n",
       "      <th>IncomeRange</th>\n",
       "      <th>Investors</th>\n",
       "      <th>BorrowerState</th>\n",
       "    </tr>\n",
       "  </thead>\n",
       "  <tbody>\n",
       "    <tr>\n",
       "      <th>0</th>\n",
       "      <td>36</td>\n",
       "      <td>1.0</td>\n",
       "      <td>0.0</td>\n",
       "      <td>Current</td>\n",
       "      <td>0.0796</td>\n",
       "      <td>0.12016</td>\n",
       "      <td>0.21</td>\n",
       "      <td>0.0920</td>\n",
       "      <td>6.0</td>\n",
       "      <td>A</td>\n",
       "      <td>...</td>\n",
       "      <td>True</td>\n",
       "      <td>6125.0</td>\n",
       "      <td>318.93</td>\n",
       "      <td>0</td>\n",
       "      <td>0.18</td>\n",
       "      <td>10000</td>\n",
       "      <td>1.0</td>\n",
       "      <td>$50,000-74,999</td>\n",
       "      <td>1</td>\n",
       "      <td>CO</td>\n",
       "    </tr>\n",
       "    <tr>\n",
       "      <th>1</th>\n",
       "      <td>36</td>\n",
       "      <td>0.0</td>\n",
       "      <td>0.0</td>\n",
       "      <td>Current</td>\n",
       "      <td>0.0849</td>\n",
       "      <td>0.12528</td>\n",
       "      <td>0.04</td>\n",
       "      <td>0.0974</td>\n",
       "      <td>6.0</td>\n",
       "      <td>A</td>\n",
       "      <td>...</td>\n",
       "      <td>True</td>\n",
       "      <td>2875.0</td>\n",
       "      <td>321.45</td>\n",
       "      <td>0</td>\n",
       "      <td>0.15</td>\n",
       "      <td>10000</td>\n",
       "      <td>1.0</td>\n",
       "      <td>$25,000-49,999</td>\n",
       "      <td>158</td>\n",
       "      <td>GA</td>\n",
       "    </tr>\n",
       "  </tbody>\n",
       "</table>\n",
       "<p>2 rows × 26 columns</p>\n",
       "</div>"
      ],
      "text/plain": [
       "   Term  PublicRecordsLast10Years  PublicRecordsLast12Months LoanStatus  \\\n",
       "0    36                       1.0                        0.0    Current   \n",
       "1    36                       0.0                        0.0    Current   \n",
       "\n",
       "   EstimatedEffectiveYield  BorrowerAPR  BankcardUtilization  BorrowerRate  \\\n",
       "0                   0.0796      0.12016                 0.21        0.0920   \n",
       "1                   0.0849      0.12528                 0.04        0.0974   \n",
       "\n",
       "   ProsperRating_Numeric ProsperRating_Alpha      ...        IncomeVerifiable  \\\n",
       "0                    6.0                   A      ...                    True   \n",
       "1                    6.0                   A      ...                    True   \n",
       "\n",
       "   StatedMonthlyIncome MonthlyLoanPayment Recommendations  DebtToIncomeRatio  \\\n",
       "0               6125.0             318.93               0               0.18   \n",
       "1               2875.0             321.45               0               0.15   \n",
       "\n",
       "   LoanOriginalAmount  PercentFunded     IncomeRange  Investors  BorrowerState  \n",
       "0               10000            1.0  $50,000-74,999          1             CO  \n",
       "1               10000            1.0  $25,000-49,999        158             GA  \n",
       "\n",
       "[2 rows x 26 columns]"
      ]
     },
     "execution_count": 2,
     "metadata": {},
     "output_type": "execute_result"
    }
   ],
   "source": [
    "# load in the dataset into a pandas dataframe\n",
    "loan_df = pd.read_csv('loan_df_final.csv')\n",
    "loan_df.head(2)"
   ]
  },
  {
   "cell_type": "markdown",
   "metadata": {
    "slideshow": {
     "slide_type": "slide"
    }
   },
   "source": [
    "## Visualization1: How the Income Range of the borrowers is distributed\n",
    "\n",
    "It was found from the analysis that 31% of borrowers earn between 50000 to 75000 dollars while 28% earn between 25000 to 50000 US dollars.  \n",
    "It is also worthy of note that, borrowers that fall within these two Income Ranges constitute more than 50% of the entire sample."
   ]
  },
  {
   "cell_type": "code",
   "execution_count": 3,
   "metadata": {
    "slideshow": {
     "slide_type": "subslide"
    }
   },
   "outputs": [
    {
     "data": {
      "image/png": "[encoded data removed]",
      "text/plain": [
       "<matplotlib.figure.Figure at 0x7fb87de79400>"
      ]
     },
     "metadata": {
      "needs_background": "light"
     },
     "output_type": "display_data"
    }
   ],
   "source": [
    "#Make the IncomeRange variable categorical and ordinal\n",
    "IncomeRanges = ['$1-24,999', '$25,000-49,999', '$50,000-74,999', '$75,000-99,999', '$100,000+']\n",
    "vclasses_1 = pd.api.types.CategoricalDtype(ordered = True, categories = IncomeRanges)\n",
    "loan_df['IncomeRange'] = loan_df['IncomeRange'].astype(vclasses_1)\n",
    "\n",
    "income_range = loan_df['IncomeRange'].value_counts(normalize=True)\n",
    "#plot the IncomeRange\n",
    "plt.figure(figsize = (10, 5))\n",
    "base_color = sb.color_palette()[0]\n",
    "font={'fontsize': 12, 'fontweight': 'bold'}\n",
    "sb.barplot(x=income_range.index, y=income_range*100, color = base_color)\n",
    "plt.xlabel('IncomeRange', fontdict=font)\n",
    "plt.ylabel('Percentage count of IncomeRange (%)', fontdict=font)\n",
    "font['fontsize'] = 16\n",
    "plt.title(\"Distribution of IncomeRange of all the Borrowers\", fontdict=font); "
   ]
  },
  {
   "cell_type": "markdown",
   "metadata": {
    "collapsed": true,
    "slideshow": {
     "slide_type": "slide"
    }
   },
   "source": [
    "## Visualization 2: Top 5 borrowing states\n",
    "\n",
    "- 37% of the borrowers come from 5 states namely (in decreasing order of pupolarity); California, New York, Texas, Florida, and Illinois with California taking the lead with about 13% borrowers.\n",
    "\n",
    "The population in these states could be the reason why they have more borrowers however, no futher analysis was done taking population into account to ascertain this claim."
   ]
  },
  {
   "cell_type": "code",
   "execution_count": 9,
   "metadata": {
    "slideshow": {
     "slide_type": "subslide"
    }
   },
   "outputs": [
    {
     "data": {
      "image/png": "[encoded data removed]",
      "text/plain": [
       "<matplotlib.figure.Figure at 0x7fb87af3fd30>"
      ]
     },
     "metadata": {
      "needs_background": "light"
     },
     "output_type": "display_data"
    }
   ],
   "source": [
    "state_counts = loan_df.BorrowerState.value_counts(normalize=True).head()\n",
    "state_order = state_counts.index\n",
    "\n",
    "#plot\n",
    "plt.figure(figsize=(10, 5))\n",
    "base_color = sb.color_palette()[0]\n",
    "font={'fontsize': 12, 'fontweight': 'bold'}\n",
    "sb.barplot(x=state_counts.index, y=state_counts*100, color = base_color)\n",
    "plt.xlabel('BorrowerState', fontsize=12, fontweight='bold')\n",
    "plt.ylabel('Percentage count of Borrowers (%)', fontsize=12, fontweight='bold');\n",
    "plt.title('Top 5 Borrowing States', fontsize=16, fontweight='bold');"
   ]
  },
  {
   "cell_type": "markdown",
   "metadata": {
    "slideshow": {
     "slide_type": "slide"
    }
   },
   "source": [
    "## Visualization 3: Top 5 Listing Categories of the Borrowers\n",
    "\n",
    "- 64% of the borrowers listed **Debt Consolidation** as their reason for taking the loan.\n",
    "- Only about 5% of them mentioned **Business** as the reason for the loan."
   ]
  },
  {
   "cell_type": "code",
   "execution_count": 11,
   "metadata": {
    "slideshow": {
     "slide_type": "subslide"
    }
   },
   "outputs": [
    {
     "data": {
      "image/png": "[encoded data removed]",
      "text/plain": [
       "<matplotlib.figure.Figure at 0x7fb87ad28390>"
      ]
     },
     "metadata": {
      "needs_background": "light"
     },
     "output_type": "display_data"
    }
   ],
   "source": [
    "# proportion of top 5 ListingCategory_Numeric\n",
    "listing_counts = loan_df['ListingCategory_Numeric'].value_counts(normalize=True).head(5)\n",
    "\n",
    "#plot\n",
    "plt.figure(figsize = (10, 8)) \n",
    "base_color = sb.color_palette()[0]\n",
    "\n",
    "xtick_labels = ['Debt Consolidation', 'Other', 'Home Improvement', 'Business', 'Auto']\n",
    "sb.barplot(x=listing_counts.index, y=listing_counts, color=base_color,\n",
    "           order=listing_counts.index);\n",
    "plt.xticks([0,1,2,3,4], xtick_labels, rotation=45)\n",
    "plt.ylabel('Proportion of Listing Category', fontsize=12, fontweight='bold')\n",
    "plt.xlabel('ListingCategory_Numeric', fontsize=12, fontweight='bold')\n",
    "plt.title(\"Top 5 - Listing Category of the Borrowers\", fontsize=16, fontweight='bold');"
   ]
  },
  {
   "cell_type": "markdown",
   "metadata": {
    "slideshow": {
     "slide_type": "slide"
    }
   },
   "source": [
    "## Visualization 4: \n",
    "### How Home owner status, IncomeRange of borrower and Loan Amount are related.\n",
    "- Being a home owner as well as having a high income plays a very big role on the Loan Amount.\n",
    "- Home owners consistently have higher Loan Amount across all Income Ranges."
   ]
  },
  {
   "cell_type": "code",
   "execution_count": 12,
   "metadata": {
    "slideshow": {
     "slide_type": "subslide"
    }
   },
   "outputs": [
    {
     "data": {
      "image/png": "[encoded data removed]",
      "text/plain": [
       "<matplotlib.figure.Figure at 0x7fb87ad054a8>"
      ]
     },
     "metadata": {
      "needs_background": "light"
     },
     "output_type": "display_data"
    }
   ],
   "source": [
    "plt.figure(figsize = (10, 5))\n",
    "sb.barplot(data = loan_df, x = 'IncomeRange', y='LoanOriginalAmount',\n",
    "           hue = 'IsBorrowerHomeowner')\n",
    "plt.legend(title='Home Owner');"
   ]
  },
  {
   "cell_type": "markdown",
   "metadata": {
    "slideshow": {
     "slide_type": "skip"
    }
   },
   "source": [
    "### Generate Slideshow\n",
    "Generating the slideshow for this presentation notebook using the `jupyter nbconvert` "
   ]
  },
  {
   "cell_type": "code",
   "execution_count": 19,
   "metadata": {
    "slideshow": {
     "slide_type": "skip"
    }
   },
   "outputs": [
    {
     "name": "stdout",
     "output_type": "stream",
     "text": [
      "[NbConvertApp] Converting notebook Part_II_Explanation.ipynb to slides\n",
      "[NbConvertApp] Writing 363740 bytes to Part_II_Explanation.slides.html\n",
      "[NbConvertApp] Redirecting reveal.js requests to https://cdnjs.cloudflare.com/ajax/libs/reveal.js/3.5.0\n",
      "Serving your slides at http://127.0.0.1:8000/Part_II_Explanation.slides.html\n",
      "Use Control-C to stop this server\n",
      "/usr/bin/xdg-open: 778: /usr/bin/xdg-open: x-www-browser: not found\n",
      "/usr/bin/xdg-open: 778: /usr/bin/xdg-open: firefox: not found\n",
      "/usr/bin/xdg-open: 778: /usr/bin/xdg-open: iceweasel: not found\n",
      "/usr/bin/xdg-open: 778: /usr/bin/xdg-open: seamonkey: not found\n",
      "/usr/bin/xdg-open: 778: /usr/bin/xdg-open: mozilla: not found\n",
      "/usr/bin/xdg-open: 778: /usr/bin/xdg-open: epiphany: not found\n",
      "/usr/bin/xdg-open: 778: /usr/bin/xdg-open: konqueror: not found\n",
      "/usr/bin/xdg-open: 778: /usr/bin/xdg-open: chromium-browser: not found\n",
      "/usr/bin/xdg-open: 778: /usr/bin/xdg-open: google-chrome: not found\n",
      "/usr/bin/xdg-open: 778: /usr/bin/xdg-open: www-browser: not found\n",
      "/usr/bin/xdg-open: 778: /usr/bin/xdg-open: links2: not found\n",
      "/usr/bin/xdg-open: 778: /usr/bin/xdg-open: elinks: not found\n",
      "/usr/bin/xdg-open: 778: /usr/bin/xdg-open: links: not found\n",
      "/usr/bin/xdg-open: 778: /usr/bin/xdg-open: lynx: not found\n",
      "/usr/bin/xdg-open: 778: /usr/bin/xdg-open: w3m: not found\n",
      "xdg-open: no method available for opening 'http://127.0.0.1:8000/Part_II_Explanation.slides.html'\n",
      "^C\n",
      "\n",
      "Interrupted\n"
     ]
    }
   ],
   "source": [
    "# Use this command if you are running this file in local\n",
    "!jupyter nbconvert Part_II_Explanation.ipynb --to slides --post serve --no-input --no-prompt"
   ]
  }
 ],
 "metadata": {
  "celltoolbar": "Slideshow",
  "kernelspec": {
   "display_name": "Python 3",
   "language": "python",
   "name": "python3"
  },
  "language_info": {
   "codemirror_mode": {
    "name": "ipython",
    "version": 3
   },
   "file_extension": ".py",
   "mimetype": "text/x-python",
   "name": "python",
   "nbconvert_exporter": "python",
   "pygments_lexer": "ipython3",
   "version": "3.6.3"
  }
 },
 "nbformat": 4,
 "nbformat_minor": 2
}
